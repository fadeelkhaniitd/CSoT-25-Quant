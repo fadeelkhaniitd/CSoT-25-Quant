{
 "cells": [
  {
   "cell_type": "code",
   "id": "initial_id",
   "metadata": {
    "collapsed": true,
    "ExecuteTime": {
     "end_time": "2025-06-04T14:09:56.722044Z",
     "start_time": "2025-06-04T14:09:56.668993Z"
    }
   },
   "source": [
    "import pandas as pd\n",
    "import numpy as np\n",
    "\n",
    "tickers = ['aapl', 'amzn', 'googl', 'msft', 'tsla']\n",
    "df_dict = {}\n",
    "for ticker in tickers:\n",
    "    df = pd.read_csv(f\"{ticker}.us.txt\")\n",
    "    df[\"Date\"] = pd.to_datetime(df['Date'])\n",
    "    df.set_index('Date', inplace=True)\n",
    "    df_dict[ticker.upper()] = df\n",
    "\n",
    "combined_df = pd.concat(df_dict.values(), keys=df_dict.keys(), names = ['Ticker'])\n",
    "combined_df.info()"
   ],
   "outputs": [
    {
     "name": "stdout",
     "output_type": "stream",
     "text": [
      "<class 'pandas.core.frame.DataFrame'>\n",
      "MultiIndex: 26691 entries, ('AAPL', Timestamp('1984-09-07 00:00:00')) to ('TSLA', Timestamp('2017-11-10 00:00:00'))\n",
      "Data columns (total 6 columns):\n",
      " #   Column   Non-Null Count  Dtype  \n",
      "---  ------   --------------  -----  \n",
      " 0   Open     26691 non-null  float64\n",
      " 1   High     26691 non-null  float64\n",
      " 2   Low      26691 non-null  float64\n",
      " 3   Close    26691 non-null  float64\n",
      " 4   Volume   26691 non-null  int64  \n",
      " 5   OpenInt  26691 non-null  int64  \n",
      "dtypes: float64(4), int64(2)\n",
      "memory usage: 1.6+ MB\n"
     ]
    }
   ],
   "execution_count": 112
  },
  {
   "metadata": {
    "ExecuteTime": {
     "end_time": "2025-06-04T14:09:58.202061Z",
     "start_time": "2025-06-04T14:09:58.189653Z"
    }
   },
   "cell_type": "code",
   "source": [
    "missing_summary = combined_df.isna().groupby('Ticker').sum()\n",
    "print(missing_summary)"
   ],
   "id": "fbcb69df3e6b56e2",
   "outputs": [
    {
     "name": "stdout",
     "output_type": "stream",
     "text": [
      "        Open  High  Low  Close  Volume  OpenInt\n",
      "Ticker                                         \n",
      "AAPL       0     0    0      0       0        0\n",
      "AMZN       0     0    0      0       0        0\n",
      "GOOGL      0     0    0      0       0        0\n",
      "MSFT       0     0    0      0       0        0\n",
      "TSLA       0     0    0      0       0        0\n"
     ]
    }
   ],
   "execution_count": 113
  },
  {
   "metadata": {},
   "cell_type": "markdown",
   "source": "We can see that there are no NA values in our data. Thus we can proceed safely.",
   "id": "afa395619832b8d0"
  },
  {
   "metadata": {
    "ExecuteTime": {
     "end_time": "2025-06-04T14:09:59.620391Z",
     "start_time": "2025-06-04T14:09:59.612441Z"
    }
   },
   "cell_type": "code",
   "source": [
    "# Taking 10 years data only\n",
    "end_date = combined_df.index.get_level_values('Date').max()\n",
    "start_date = end_date - pd.DateOffset(years=10)\n",
    "combined_df = combined_df.loc[(slice(None), slice(start_date, end_date)), :]"
   ],
   "id": "6db19b552d772d5d",
   "outputs": [],
   "execution_count": 114
  },
  {
   "metadata": {
    "ExecuteTime": {
     "end_time": "2025-06-04T14:10:01.115568Z",
     "start_time": "2025-06-04T14:10:01.084811Z"
    }
   },
   "cell_type": "code",
   "source": [
    "# Adding columns for daily return, 7-day moving average, 30-day moving average, and rolling volatility (30d)\n",
    "def add_features(df):\n",
    "    df = df.copy()\n",
    "    df['Daily Return'] = df['Close'].pct_change()\n",
    "    df['MA_7'] = df['Close'].rolling(window=7).mean()\n",
    "    df['MA_30'] = df['Close'].rolling(window=30).mean()\n",
    "    df['Volatility_30d'] = df['Daily Return'].rolling(window=30).std()\n",
    "    return df\n",
    "\n",
    "combined_df = combined_df.groupby(level='Ticker', group_keys=False).apply(add_features)\n",
    "# remove starting rows which contain NA\n",
    "combined_df = combined_df.dropna()"
   ],
   "id": "d3b8d3cf50a0be3b",
   "outputs": [],
   "execution_count": 115
  },
  {
   "metadata": {
    "ExecuteTime": {
     "end_time": "2025-06-04T14:10:02.484100Z",
     "start_time": "2025-06-04T14:10:02.475792Z"
    }
   },
   "cell_type": "code",
   "source": [
    "avg_return = combined_df.groupby(level='Ticker')['Daily Return'].mean()\n",
    "avg_return"
   ],
   "id": "ba46bfccd1d2ba25",
   "outputs": [
    {
     "data": {
      "text/plain": [
       "Ticker\n",
       "AAPL     0.000969\n",
       "AMZN     0.001305\n",
       "GOOGL    0.000609\n",
       "MSFT     0.000558\n",
       "TSLA     0.001994\n",
       "Name: Daily Return, dtype: float64"
      ]
     },
     "execution_count": 116,
     "metadata": {},
     "output_type": "execute_result"
    }
   ],
   "execution_count": 116
  },
  {
   "metadata": {},
   "cell_type": "markdown",
   "source": "We can see that Tesla has the highest average return of approximately 0.2%",
   "id": "ccd22a80355a4816"
  },
  {
   "metadata": {
    "ExecuteTime": {
     "end_time": "2025-06-04T14:10:04.166623Z",
     "start_time": "2025-06-04T14:10:04.146506Z"
    }
   },
   "cell_type": "code",
   "source": [
    "max_volatility_30d = combined_df.groupby(level='Ticker')['Volatility_30d'].idxmax().apply(\n",
    "    lambda idx: pd.Series({\n",
    "        'Max 30-day Rolling Volatility': combined_df.loc[idx, 'Volatility_30d'],\n",
    "        'End date of 30-day period': idx[1]\n",
    "    })\n",
    ").reset_index()\n",
    "max_volatility_30d"
   ],
   "id": "fe799b2652e8ef87",
   "outputs": [
    {
     "data": {
      "text/plain": [
       "  Ticker  Max 30-day Rolling Volatility End date of 30-day period\n",
       "0   AAPL                       0.066955                2008-10-28\n",
       "1   AMZN                       0.069423                2008-10-28\n",
       "2  GOOGL                       0.055522                2008-10-28\n",
       "3   MSFT                       0.060814                2008-11-21\n",
       "4   TSLA                       0.094450                2010-08-10"
      ],
      "text/html": [
       "<div>\n",
       "<style scoped>\n",
       "    .dataframe tbody tr th:only-of-type {\n",
       "        vertical-align: middle;\n",
       "    }\n",
       "\n",
       "    .dataframe tbody tr th {\n",
       "        vertical-align: top;\n",
       "    }\n",
       "\n",
       "    .dataframe thead th {\n",
       "        text-align: right;\n",
       "    }\n",
       "</style>\n",
       "<table border=\"1\" class=\"dataframe\">\n",
       "  <thead>\n",
       "    <tr style=\"text-align: right;\">\n",
       "      <th></th>\n",
       "      <th>Ticker</th>\n",
       "      <th>Max 30-day Rolling Volatility</th>\n",
       "      <th>End date of 30-day period</th>\n",
       "    </tr>\n",
       "  </thead>\n",
       "  <tbody>\n",
       "    <tr>\n",
       "      <th>0</th>\n",
       "      <td>AAPL</td>\n",
       "      <td>0.066955</td>\n",
       "      <td>2008-10-28</td>\n",
       "    </tr>\n",
       "    <tr>\n",
       "      <th>1</th>\n",
       "      <td>AMZN</td>\n",
       "      <td>0.069423</td>\n",
       "      <td>2008-10-28</td>\n",
       "    </tr>\n",
       "    <tr>\n",
       "      <th>2</th>\n",
       "      <td>GOOGL</td>\n",
       "      <td>0.055522</td>\n",
       "      <td>2008-10-28</td>\n",
       "    </tr>\n",
       "    <tr>\n",
       "      <th>3</th>\n",
       "      <td>MSFT</td>\n",
       "      <td>0.060814</td>\n",
       "      <td>2008-11-21</td>\n",
       "    </tr>\n",
       "    <tr>\n",
       "      <th>4</th>\n",
       "      <td>TSLA</td>\n",
       "      <td>0.094450</td>\n",
       "      <td>2010-08-10</td>\n",
       "    </tr>\n",
       "  </tbody>\n",
       "</table>\n",
       "</div>"
      ]
     },
     "execution_count": 117,
     "metadata": {},
     "output_type": "execute_result"
    }
   ],
   "execution_count": 117
  },
  {
   "metadata": {},
   "cell_type": "markdown",
   "source": "We can see that again, Tesla has the highest 30-day rolling volatility, on 10th Aug 2010.",
   "id": "8586b349f643a43d"
  }
 ],
 "metadata": {
  "kernelspec": {
   "display_name": "Python 3",
   "language": "python",
   "name": "python3"
  },
  "language_info": {
   "codemirror_mode": {
    "name": "ipython",
    "version": 2
   },
   "file_extension": ".py",
   "mimetype": "text/x-python",
   "name": "python",
   "nbconvert_exporter": "python",
   "pygments_lexer": "ipython2",
   "version": "2.7.6"
  }
 },
 "nbformat": 4,
 "nbformat_minor": 5
}
